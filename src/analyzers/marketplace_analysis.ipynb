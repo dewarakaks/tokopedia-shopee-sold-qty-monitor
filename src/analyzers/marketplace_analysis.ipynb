# Cell 1: Import
import pandas as pd
import matplotlib.pyplot as plt

# Cell 2: Load Data
df = pd.read_csv("../../data/data_produk_marketplace.csv")
df.head()

# Cell 3: Produk Terlaris per Marketplace
top_sold = df.groupby(['marketplace','product_name'])['sold_qty'].sum().reset_index()
plt.figure(figsize=(8,5))
for m in df['marketplace'].unique():
    sub = top_sold[top_sold['marketplace']==m]
    plt.bar(sub['product_name']+" ("+m+")", sub['sold_qty'], label=m)
plt.title("Produk Terlaris per Marketplace")
plt.ylabel("Total Sold")
plt.legend()
plt.show()

# Cell 4: Rata-rata Harga & Sold Qty
avg = df.groupby('marketplace')[['price','sold_qty']].mean().reset_index()
avg.plot(x='marketplace', y=['price','sold_qty'], kind='bar', figsize=(6,4), title="Rerata Harga & Jumlah Terjual")
plt.ylabel("Value")
plt.show()

# Cell 5: Tren Penjualan Harian
pivot = df.pivot_table(index='date', columns='marketplace', values='sold_qty', aggfunc='sum').fillna(0)
pivot.plot(figsize=(6,4), marker='o', title="Tren Penjualan Harian: Sold Qty")
plt.ylabel("Total Sold Qty")
plt.show()

# Cell 6: Insight / Kesimpulan
from IPython.display import Markdown
concl = """
### Kesimpulan
- Produk flagship (iPhone 14 Pro, Samsung S23) cenderung lebih banyak terjual di Shopee.
- Tokopedia memberikan harga rata-rata lebih rendah, namun tidak selalu sebanding dengan sold quantity.
- Penjualan 'iPhone 14 Pro' naik signifikan pada 2 September pada kedua marketplace.
"""
display(Markdown(concl))
